{
 "cells": [
  {
   "cell_type": "markdown",
   "metadata": {},
   "source": [
    "<h1>Databases homework</h1>\n",
    "\n",
    "The homework for this week is to create and work with your own database. For that you should:\n",
    "- Choose a dataset to work with (I personally recommend the pokemon dataset);\n",
    "- Create your database schema using one of the available tools online such as [dbdiagram](https://dbdiagram.io/) (or, any other tool you prefer);\n",
    "- Create the database using SQLAlchemy and demonstrate that you can use it by adding, querying, updating and deleting data.\n",
    "\n",
    "Bonus points: parse the entire csv you're working the database format BUT it is strictly forbidden to do that manually, i.e., WITHOUT using a loop (which, quite frankly, is madness).\n"
   ]
  },
  {
   "cell_type": "code",
   "execution_count": 2,
   "metadata": {},
   "outputs": [],
   "source": [
    "import sqlalchemy as sql"
   ]
  },
  {
   "cell_type": "code",
   "execution_count": 3,
   "metadata": {},
   "outputs": [],
   "source": [
    "# Some more imports.\n",
    "import os\n",
    "import sys\n",
    "from sqlalchemy import Column, ForeignKey, Integer, String, Boolean\n",
    "from sqlalchemy.ext.declarative import declarative_base\n",
    "from sqlalchemy.orm import relationship\n",
    "from sqlalchemy import create_engine"
   ]
  },
  {
   "cell_type": "code",
   "execution_count": 4,
   "metadata": {},
   "outputs": [],
   "source": [
    "Base = declarative_base()\n",
    "\n",
    "class Pokemon(Base):\n",
    "    __tablename__ = 'pokemon'\n",
    "    \n",
    "    id = Column(Integer, primary_key=True)\n",
    "    name = Column(String(50), nullable=False)\n",
    "\n",
    "class Attributes(Base):\n",
    "    __tablename__ = 'attributes'\n",
    "    \n",
    "    id = Column(Integer, primary_key=True)\n",
    "    type1 = Column(String(50))\n",
    "    type2 = Column(String(50))\n",
    "    HP = Column(Integer, nullable=False)\n",
    "    Attack = Column(Integer, nullable=False)\n",
    "    Defense = Column(Integer, nullable=False)\n",
    "    Sp_Atak = Column(Integer, nullable=False)\n",
    "    Sp_def = Column(Integer, nullable=False)\n",
    "    Legendary = Column(Boolean, nullable=False)\n",
    "    Generation = Column(Integer, nullable=False)\n",
    "    pokemon_id = Column(Integer, ForeignKey('pokemon.id'))\n",
    "    Pokemon = relationship(Pokemon)\n",
    "\n",
    "\n",
    "engine = create_engine('sqlite:///pokedex.db')\n",
    "\n",
    "\n",
    "Base.metadata.create_all(engine)"
   ]
  },
  {
   "cell_type": "code",
   "execution_count": 5,
   "metadata": {},
   "outputs": [],
   "source": [
    "from sqlalchemy import create_engine\n",
    "from sqlalchemy.orm import sessionmaker\n",
    "\n",
    "\n",
    "engine = create_engine('sqlite:///pokedex.db')\n",
    "\n",
    "Base.metadata.bind = engine\n",
    "\n",
    "DBSession = sessionmaker(bind=engine)\n",
    "\n",
    "session = DBSession()"
   ]
  },
  {
   "cell_type": "code",
   "execution_count": 6,
   "metadata": {},
   "outputs": [],
   "source": [
    "new_pokemon = Pokemon(name='Bulbasaur')\n",
    "session.add(new_pokemon)\n",
    "session.commit()"
   ]
  },
  {
   "cell_type": "code",
   "execution_count": null,
   "metadata": {},
   "outputs": [],
   "source": [
    "new_type = Attributes(type1='grass', Pokemon=new_pokemon)\n",
    "session.add(new_type)\n",
    "session.commit()"
   ]
  },
  {
   "cell_type": "code",
   "execution_count": 18,
   "metadata": {},
   "outputs": [],
   "source": [
    "session.rollback()"
   ]
  },
  {
   "cell_type": "code",
   "execution_count": null,
   "metadata": {},
   "outputs": [],
   "source": [
    "type1 = Column(String(50))\n",
    "    type2 = Column(String(50))\n",
    "    HP = Column(Integer, nullable=False)\n",
    "    Attack = Column(Integer, nullable=False)\n",
    "    Defense = Column(Integer, nullable=False)\n",
    "    Sp_Atak = Column(Integer, nullable=False)\n",
    "    Sp_def = Column(Integer, nullable=False)\n",
    "    Legendary = Column(Boolean, nullable=False)\n",
    "    Generation = Column(Integer, nullable=False)"
   ]
  },
  {
   "cell_type": "code",
   "execution_count": 13,
   "metadata": {},
   "outputs": [],
   "source": [
    "new_type = Attributes(type1='grass', \n",
    "                      type2=None, \n",
    "                      HP=45, \n",
    "                      Attack=49, \n",
    "                      Defense = 49,\n",
    "                      Sp_Atak = 65,\n",
    "                      Sp_def = 65,\n",
    "                      Legendary=False, \n",
    "                      Generation = 1,\n",
    "                      Pokemon=new_pokemon)\n",
    "session.add(new_type)\n",
    "session.commit()"
   ]
  },
  {
   "cell_type": "code",
   "execution_count": 14,
   "metadata": {},
   "outputs": [],
   "source": [
    "new_pokemon = Pokemon(name='Ivysaur')\n",
    "session.add(new_pokemon)\n",
    "session.commit()\n",
    "\n",
    "\n",
    "new_type = Attributes(type1='grass', \n",
    "                      type2=None, \n",
    "                      HP=45, \n",
    "                      Attack=49, \n",
    "                      Defense = 49,\n",
    "                      Sp_Atak = 65,\n",
    "                      Sp_def = 65,\n",
    "                      Legendary=False, \n",
    "                      Generation = 1,\n",
    "                      Pokemon=new_pokemon)\n",
    "session.add(new_type)\n",
    "session.commit()"
   ]
  },
  {
   "cell_type": "code",
   "execution_count": 15,
   "metadata": {},
   "outputs": [],
   "source": [
    "new_pokemon = Pokemon(name='Venusaur')\n",
    "session.add(new_pokemon)\n",
    "session.commit()\n",
    "\n",
    "\n",
    "new_type = Attributes(type1='grass', \n",
    "                      type2=None, \n",
    "                      HP=80, \n",
    "                      Attack=82, \n",
    "                      Defense = 83,\n",
    "                      Sp_Atak = 100,\n",
    "                      Sp_def = 100,\n",
    "                      Legendary=False, \n",
    "                      Generation = 1,\n",
    "                      Pokemon=new_pokemon)\n",
    "session.add(new_type)\n",
    "session.commit()"
   ]
  },
  {
   "cell_type": "code",
   "execution_count": null,
   "metadata": {},
   "outputs": [],
   "source": [
    "type1 = Column(String(50))\n",
    "    type2 = Column(String(50))\n",
    "    HP = Column(Integer, nullable=False)\n",
    "    Attack = Column(Integer, nullable=False)\n",
    "    Defense = Column(Integer, nullable=False)\n",
    "    Sp_Atak = Column(Integer, nullable=False)\n",
    "    Sp_def = Column(Integer, nullable=False)\n",
    "    Legendary = Column(Boolean, nullable=False)\n",
    "    Generation = Column(Integer, nullable=False)"
   ]
  },
  {
   "cell_type": "code",
   "execution_count": 17,
   "metadata": {},
   "outputs": [],
   "source": [
    "new_pokemon = Pokemon(name='Chameleon')\n",
    "session.add(new_pokemon)\n",
    "session.commit()\n",
    "\n",
    "\n",
    "new_type = Attributes(type1='Fire', \n",
    "                      type2=None, \n",
    "                      HP=58, \n",
    "                      Attack=64, \n",
    "                      Defense = 58,\n",
    "                      Sp_Atak = 80,\n",
    "                      Sp_def = 65,\n",
    "                      Legendary=False, \n",
    "                      Generation = 1,\n",
    "                      Pokemon=new_pokemon)\n",
    "session.add(new_type)\n",
    "session.commit()"
   ]
  },
  {
   "cell_type": "code",
   "execution_count": 8,
   "metadata": {},
   "outputs": [
    {
     "ename": "SyntaxError",
     "evalue": "invalid syntax (3575773839.py, line 1)",
     "output_type": "error",
     "traceback": [
      "\u001b[1;36m  Input \u001b[1;32mIn [8]\u001b[1;36m\u001b[0m\n\u001b[1;33m    Example querying the pokemon database.\u001b[0m\n\u001b[1;37m            ^\u001b[0m\n\u001b[1;31mSyntaxError\u001b[0m\u001b[1;31m:\u001b[0m invalid syntax\n"
     ]
    }
   ],
   "source": [
    "Example querying the pokemon database.\n",
    "s = sql.select([pokemon])\n",
    "rp = session.execute(s)\n",
    "results = rp.fetchall()\n",
    "results"
   ]
  },
  {
   "cell_type": "code",
   "execution_count": 29,
   "metadata": {},
   "outputs": [
    {
     "data": {
      "text/plain": [
       "[(<__main__.Attributes object at 0x0000026B9C170C40>,),\n",
       " (<__main__.Attributes object at 0x0000026B9C170CA0>,),\n",
       " (<__main__.Attributes object at 0x0000026B9C170D00>,),\n",
       " (<__main__.Attributes object at 0x0000026B9C170D60>,),\n",
       " (<__main__.Attributes object at 0x0000026B9C170DC0>,)]"
      ]
     },
     "execution_count": 29,
     "metadata": {},
     "output_type": "execute_result"
    }
   ],
   "source": [
    "s = sql.select([Attributes])\n",
    "rp = session.execute(s)\n",
    "results = rp.fetchall()\n",
    "results"
   ]
  },
  {
   "cell_type": "code",
   "execution_count": null,
   "metadata": {},
   "outputs": [],
   "source": []
  },
  {
   "cell_type": "code",
   "execution_count": 36,
   "metadata": {},
   "outputs": [
    {
     "data": {
      "text/plain": [
       "[(<__main__.Attributes object at 0x0000026B9C170CA0>,)]"
      ]
     },
     "execution_count": 36,
     "metadata": {},
     "output_type": "execute_result"
    }
   ],
   "source": [
    "# Example with a where statement.\n",
    "\n",
    "s = sql.select([Attributes]).where(Attributes.pokemon_id == 1)\n",
    "rp = session.execute(s)\n",
    "results = rp.fetchall()\n",
    "results"
   ]
  },
  {
   "cell_type": "code",
   "execution_count": 35,
   "metadata": {},
   "outputs": [
    {
     "data": {
      "text/plain": [
       "[(1, 'Bulbasaur'),\n",
       " (2, 'Ivysaur'),\n",
       " (3, 'Venusaur'),\n",
       " (4, 'Chamander'),\n",
       " (5, 'Chameleon'),\n",
       " (6, 'Bulbasaur')]"
      ]
     },
     "execution_count": 35,
     "metadata": {},
     "output_type": "execute_result"
    }
   ],
   "source": [
    "s = \"SELECT * FROM pokemon\"\n",
    "rp = session.execute(s)\n",
    "results = rp.fetchall()\n",
    "results"
   ]
  },
  {
   "cell_type": "code",
   "execution_count": 20,
   "metadata": {},
   "outputs": [],
   "source": [
    "# Notice anything different about the query?\n",
    "s = session.query(Attributes)\n",
    "s = s.filter(Attributes.pokemon_id == 1)\n",
    "\n",
    "# Update example.\n",
    "s.update({Attributes.Attack: 700})\n",
    "session.commit()"
   ]
  },
  {
   "cell_type": "code",
   "execution_count": 23,
   "metadata": {},
   "outputs": [],
   "source": [
    "# Delete example\n",
    "s = sql.delete(Attributes).where(Attributes.pokemon_id == 2)\n",
    "rp = session.execute(s)"
   ]
  },
  {
   "cell_type": "code",
   "execution_count": 22,
   "metadata": {},
   "outputs": [],
   "source": [
    "# Closing session.\n",
    "session.close()"
   ]
  },
  {
   "cell_type": "code",
   "execution_count": null,
   "metadata": {},
   "outputs": [],
   "source": []
  }
 ],
 "metadata": {
  "kernelspec": {
   "display_name": "Python 3 (ipykernel)",
   "language": "python",
   "name": "python3"
  },
  "language_info": {
   "codemirror_mode": {
    "name": "ipython",
    "version": 3
   },
   "file_extension": ".py",
   "mimetype": "text/x-python",
   "name": "python",
   "nbconvert_exporter": "python",
   "pygments_lexer": "ipython3",
   "version": "3.9.12"
  }
 },
 "nbformat": 4,
 "nbformat_minor": 4
}
